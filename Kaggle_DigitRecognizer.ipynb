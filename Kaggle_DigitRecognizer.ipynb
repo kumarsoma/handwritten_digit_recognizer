{
 "cells": [
  {
   "cell_type": "code",
   "execution_count": 14,
   "metadata": {},
   "outputs": [],
   "source": [
    "import numpy as np\n",
    "import os\n",
    "import matplotlib.pyplot as plt\n",
    "import pandas as pd\n",
    "import tensorflow as tf\n",
    "from tensorflow import keras\n",
    "%matplotlib inline\n",
    "\n",
    "np.random.seed(42)\n",
    "\n",
    "from sklearn.model_selection import train_test_split\n",
    "from sklearn.metrics import confusion_matrix\n",
    "\n",
    "from tensorflow.keras.utils import to_categorical \n",
    "from tensorflow.keras.models import Sequential\n",
    "from tensorflow.keras.layers import Dense, Dropout, Flatten, Conv2D, MaxPool2D\n",
    "from tensorflow.keras.optimizers import RMSprop\n",
    "from tensorflow.keras.optimizers import Adam\n",
    "from tensorflow.keras.preprocessing.image import ImageDataGenerator\n",
    "from tensorflow.keras.callbacks import ReduceLROnPlateau\n",
    "from tensorflow.keras.callbacks import EarlyStopping\n",
    "from tensorflow.keras.callbacks import ModelCheckpoint"
   ]
  },
  {
   "cell_type": "code",
   "execution_count": 15,
   "metadata": {},
   "outputs": [],
   "source": [
    "# Load data\n",
    "train = pd.read_csv(os.path.join('DigitRecognizer','train.csv'))\n",
    "test = pd.read_csv(os.path.join('DigitRecognizer','test.csv'))"
   ]
  },
  {
   "cell_type": "code",
   "execution_count": 16,
   "metadata": {},
   "outputs": [],
   "source": [
    "y_train = train[\"label\"]\n",
    "x_train = train.drop(labels = [\"label\"],axis = 1) "
   ]
  },
  {
   "cell_type": "code",
   "execution_count": 17,
   "metadata": {},
   "outputs": [],
   "source": [
    "del train "
   ]
  },
  {
   "cell_type": "code",
   "execution_count": 18,
   "metadata": {},
   "outputs": [
    {
     "data": {
      "text/plain": [
       "1    4684\n",
       "7    4401\n",
       "3    4351\n",
       "9    4188\n",
       "2    4177\n",
       "6    4137\n",
       "0    4132\n",
       "4    4072\n",
       "8    4063\n",
       "5    3795\n",
       "Name: label, dtype: int64"
      ]
     },
     "execution_count": 18,
     "metadata": {},
     "output_type": "execute_result"
    }
   ],
   "source": [
    "y_train.value_counts()"
   ]
  },
  {
   "cell_type": "markdown",
   "metadata": {},
   "source": [
    "# Missing values"
   ]
  },
  {
   "cell_type": "code",
   "execution_count": 38,
   "metadata": {},
   "outputs": [
    {
     "data": {
      "text/plain": [
       "0"
      ]
     },
     "execution_count": 38,
     "metadata": {},
     "output_type": "execute_result"
    }
   ],
   "source": [
    "x_train.isnull().any().sum()"
   ]
  },
  {
   "cell_type": "code",
   "execution_count": 39,
   "metadata": {},
   "outputs": [
    {
     "data": {
      "text/plain": [
       "0"
      ]
     },
     "execution_count": 39,
     "metadata": {},
     "output_type": "execute_result"
    }
   ],
   "source": [
    "y_train.isnull().any().sum()"
   ]
  },
  {
   "cell_type": "code",
   "execution_count": 28,
   "metadata": {},
   "outputs": [
    {
     "data": {
      "text/plain": [
       "0"
      ]
     },
     "execution_count": 28,
     "metadata": {},
     "output_type": "execute_result"
    }
   ],
   "source": [
    "test.isnull().any().sum()"
   ]
  },
  {
   "cell_type": "markdown",
   "metadata": {},
   "source": [
    "No missing data in train and test sets"
   ]
  },
  {
   "cell_type": "markdown",
   "metadata": {},
   "source": [
    "# Data Preprocessing"
   ]
  },
  {
   "cell_type": "code",
   "execution_count": 8,
   "metadata": {},
   "outputs": [],
   "source": [
    "# Normalize data\n",
    "x_train = x_train / 255.0"
   ]
  },
  {
   "cell_type": "code",
   "execution_count": 9,
   "metadata": {},
   "outputs": [],
   "source": [
    "# Reshape image into 3D arrays\n",
    "x_train = x_train.values.reshape(-1,28,28,1) "
   ]
  },
  {
   "cell_type": "code",
   "execution_count": 10,
   "metadata": {},
   "outputs": [],
   "source": [
    "# Encode labels \n",
    "y_train = keras.utils.to_categorical(y_train, num_classes = 10)"
   ]
  },
  {
   "cell_type": "code",
   "execution_count": 11,
   "metadata": {},
   "outputs": [],
   "source": [
    "# Train val split\n",
    "x_train, x_val, y_train, y_val = train_test_split(x_train, y_train, test_size = 0.1, random_state=2)"
   ]
  },
  {
   "cell_type": "markdown",
   "metadata": {},
   "source": [
    "# Prepare model"
   ]
  },
  {
   "cell_type": "markdown",
   "metadata": {},
   "source": [
    "Note: I learnt the coding techniques for building a CNN from Hands-On Machine Learning (by Aurelien Geron) as well as Yassine Ghouzam's Kaggle notebook"
   ]
  },
  {
   "cell_type": "markdown",
   "metadata": {},
   "source": [
    "### Define layers"
   ]
  },
  {
   "cell_type": "code",
   "execution_count": 12,
   "metadata": {},
   "outputs": [],
   "source": [
    "model = Sequential([\n",
    "    \n",
    "    # Layer 1\n",
    "    keras.layers.Conv2D(filters = 32, kernel_size = 5, padding = \"same\", activation = \"relu\", input_shape = [28,28,1]),\n",
    "    keras.layers.MaxPooling2D (pool_size = 2, strides = 2),\n",
    " \n",
    "    # Layer 2\n",
    "    keras.layers.Conv2D(filters = 64, kernel_size = 3, padding = \"same\", activation = \"relu\"),\n",
    "    keras.layers.Conv2D(filters = 64, kernel_size = 3, padding = \"same\", activation = \"relu\"),\n",
    "    keras.layers.MaxPooling2D (pool_size = 2, strides = 2),\n",
    "    \n",
    "    keras.layers.Flatten(),\n",
    "    \n",
    "    # Layer 3\n",
    "    keras.layers.Dense(256, activation = \"relu\"), \n",
    "    keras.layers.Dropout(0.5),\n",
    "     \n",
    "    #Layer 4\n",
    "    keras.layers.Dense(10, activation = \"softmax\")\n",
    "])"
   ]
  },
  {
   "cell_type": "markdown",
   "metadata": {},
   "source": [
    "### Compile model"
   ]
  },
  {
   "cell_type": "code",
   "execution_count": null,
   "metadata": {},
   "outputs": [],
   "source": [
    "opt = Adam(lr=0.001, beta_1=0.9, beta_2=0.999)\n",
    "# opt = RMSprop(lr=0.001, rho=0.9, epsilon=1e-08, decay=0.0)"
   ]
  },
  {
   "cell_type": "code",
   "execution_count": 15,
   "metadata": {},
   "outputs": [],
   "source": [
    "model.compile(optimizer = opt, \n",
    "              loss = \"categorical_crossentropy\", \n",
    "              metrics=[\"accuracy\"])"
   ]
  },
  {
   "cell_type": "markdown",
   "metadata": {},
   "source": [
    "### Data Augmentation"
   ]
  },
  {
   "cell_type": "code",
   "execution_count": null,
   "metadata": {},
   "outputs": [],
   "source": [
    "datagen = ImageDataGenerator(\n",
    "        rotation_range=10,  \n",
    "        zoom_range = 0.1, \n",
    "        width_shift_range=0.1,  # horizontal shift (relative to total width)\n",
    "        height_shift_range=0.1,  # vertical shift (relative to total height)\n",
    ")  "
   ]
  },
  {
   "cell_type": "code",
   "execution_count": 16,
   "metadata": {},
   "outputs": [],
   "source": [
    "datagen.fit(x_train)"
   ]
  },
  {
   "cell_type": "markdown",
   "metadata": {},
   "source": [
    "### Callbacks"
   ]
  },
  {
   "cell_type": "code",
   "execution_count": 19,
   "metadata": {},
   "outputs": [],
   "source": [
    "checkpoint_cb = ModelCheckpoint(\"mnist.h5\",                                                 \n",
    "                                monitor = 'val_accuracy',                                                \n",
    "                                save_best_only=True)"
   ]
  },
  {
   "cell_type": "code",
   "execution_count": 17,
   "metadata": {},
   "outputs": [],
   "source": [
    "# reduce learning by lr*0.5 when val_accuracy value plateaus for 3 epochs\n",
    "lr_cb = ReduceLROnPlateau(monitor='val_accuracy', \n",
    "                          patience=2, \n",
    "                          verbose=1,                                             \n",
    "                          factor=0.5,                                             \n",
    "                          min_lr=0.00001)"
   ]
  },
  {
   "cell_type": "code",
   "execution_count": 18,
   "metadata": {},
   "outputs": [],
   "source": [
    "early_stop_cb = EarlyStopping(patience=3,                                                  \n",
    "                              restore_best_weights=True)"
   ]
  },
  {
   "cell_type": "markdown",
   "metadata": {},
   "source": [
    "# Train Model"
   ]
  },
  {
   "cell_type": "code",
   "execution_count": null,
   "metadata": {},
   "outputs": [],
   "source": [
    "batch_size = 64\n",
    "epoch = 15"
   ]
  },
  {
   "cell_type": "code",
   "execution_count": 20,
   "metadata": {},
   "outputs": [
    {
     "name": "stdout",
     "output_type": "stream",
     "text": [
      "Epoch 1/15\n",
      "590/590 - 145s - loss: 0.3595 - accuracy: 0.8853 - val_loss: 0.0710 - val_accuracy: 0.9793\n",
      "Epoch 2/15\n",
      "590/590 - 145s - loss: 0.1218 - accuracy: 0.9643 - val_loss: 0.0526 - val_accuracy: 0.9848\n",
      "Epoch 3/15\n",
      "590/590 - 149s - loss: 0.0955 - accuracy: 0.9719 - val_loss: 0.0420 - val_accuracy: 0.9888\n",
      "Epoch 4/15\n",
      "590/590 - 152s - loss: 0.0763 - accuracy: 0.9769 - val_loss: 0.0357 - val_accuracy: 0.9895\n",
      "Epoch 5/15\n",
      "590/590 - 153s - loss: 0.0655 - accuracy: 0.9809 - val_loss: 0.0287 - val_accuracy: 0.9917\n",
      "Epoch 6/15\n",
      "590/590 - 156s - loss: 0.0599 - accuracy: 0.9814 - val_loss: 0.0288 - val_accuracy: 0.9910\n",
      "Epoch 7/15\n",
      "\n",
      "Epoch 00007: ReduceLROnPlateau reducing learning rate to 0.0005000000237487257.\n",
      "590/590 - 169s - loss: 0.0546 - accuracy: 0.9840 - val_loss: 0.0257 - val_accuracy: 0.9917\n",
      "Epoch 8/15\n",
      "590/590 - 142s - loss: 0.0397 - accuracy: 0.9880 - val_loss: 0.0236 - val_accuracy: 0.9931\n",
      "Epoch 9/15\n",
      "590/590 - 145s - loss: 0.0352 - accuracy: 0.9896 - val_loss: 0.0198 - val_accuracy: 0.9940\n",
      "Epoch 10/15\n",
      "590/590 - 141s - loss: 0.0339 - accuracy: 0.9895 - val_loss: 0.0245 - val_accuracy: 0.9931\n",
      "Epoch 11/15\n",
      "\n",
      "Epoch 00011: ReduceLROnPlateau reducing learning rate to 0.0002500000118743628.\n",
      "590/590 - 142s - loss: 0.0330 - accuracy: 0.9904 - val_loss: 0.0181 - val_accuracy: 0.9938\n",
      "Epoch 12/15\n",
      "590/590 - 146s - loss: 0.0279 - accuracy: 0.9913 - val_loss: 0.0189 - val_accuracy: 0.9952\n",
      "Epoch 13/15\n",
      "590/590 - 143s - loss: 0.0263 - accuracy: 0.9922 - val_loss: 0.0160 - val_accuracy: 0.9952\n",
      "Epoch 14/15\n",
      "\n",
      "Epoch 00014: ReduceLROnPlateau reducing learning rate to 0.0001250000059371814.\n",
      "590/590 - 142s - loss: 0.0232 - accuracy: 0.9932 - val_loss: 0.0171 - val_accuracy: 0.9948\n",
      "Epoch 15/15\n",
      "590/590 - 149s - loss: 0.0247 - accuracy: 0.9926 - val_loss: 0.0165 - val_accuracy: 0.9950\n"
     ]
    }
   ],
   "source": [
    "history = model.fit_generator(datagen.flow(x_train,y_train, batch_size= batch_size),\n",
    "                              epochs = epoch, \n",
    "                              validation_data = (x_val,y_val),\n",
    "                              verbose = 2, \n",
    "                              steps_per_epoch=x_train.shape[0] // batch_size,\n",
    "                              callbacks=[checkpoint_cb, lr_cb, early_stop_cb])"
   ]
  },
  {
   "cell_type": "markdown",
   "metadata": {},
   "source": [
    "# Evaluate model"
   ]
  },
  {
   "cell_type": "markdown",
   "metadata": {},
   "source": [
    "### Confusion matrix of validation results"
   ]
  },
  {
   "cell_type": "code",
   "execution_count": 26,
   "metadata": {},
   "outputs": [],
   "source": [
    "y_pred = model.predict (x_val) # class probabilities\n",
    "y_pred_class = np.argmax (y_pred,axis = 1)  # class with highest prob (i.e. predicted class)"
   ]
  },
  {
   "cell_type": "code",
   "execution_count": 27,
   "metadata": {},
   "outputs": [],
   "source": [
    "y_true = np.argmax (y_val,axis = 1) # class with prob of 1 (i.e. true class)"
   ]
  },
  {
   "cell_type": "code",
   "execution_count": 28,
   "metadata": {},
   "outputs": [
    {
     "data": {
      "text/plain": [
       "array([[411,   0,   0,   0,   0,   0,   0,   0,   0,   0],\n",
       "       [  0, 484,   0,   0,   0,   0,   0,   0,   1,   0],\n",
       "       [  0,   0, 401,   0,   0,   0,   0,   0,   2,   0],\n",
       "       [  0,   0,   0, 416,   0,   0,   0,   0,   2,   0],\n",
       "       [  0,   0,   0,   0, 455,   0,   1,   0,   0,   5],\n",
       "       [  0,   0,   0,   0,   0, 369,   1,   0,   2,   0],\n",
       "       [  0,   0,   0,   0,   1,   0, 411,   0,   1,   0],\n",
       "       [  0,   0,   0,   1,   0,   0,   0, 445,   0,   0],\n",
       "       [  0,   0,   0,   0,   1,   0,   0,   0, 380,   1],\n",
       "       [  0,   0,   0,   0,   1,   0,   0,   0,   0, 408]], dtype=int64)"
      ]
     },
     "execution_count": 28,
     "metadata": {},
     "output_type": "execute_result"
    }
   ],
   "source": [
    "conf_mat = confusion_matrix (y_true, y_pred_class) \n",
    "conf_mat"
   ]
  },
  {
   "cell_type": "code",
   "execution_count": 29,
   "metadata": {},
   "outputs": [
    {
     "data": {
      "text/plain": [
       "Text(0.5, 0, 'Predicted class')"
      ]
     },
     "execution_count": 29,
     "metadata": {},
     "output_type": "execute_result"
    },
    {
     "data": {
      "image/png": "[encoded data removed]",
      "text/plain": [
       "<Figure size 288x288 with 1 Axes>"
      ]
     },
     "metadata": {
      "needs_background": "light"
     },
     "output_type": "display_data"
    }
   ],
   "source": [
    "plt.matshow(conf_mat, cmap = plt.cm.gray)\n",
    "plt.ylabel('True class')\n",
    "plt.xlabel('Predicted class')"
   ]
  },
  {
   "cell_type": "markdown",
   "metadata": {},
   "source": [
    "### Compute error rates"
   ]
  },
  {
   "cell_type": "code",
   "execution_count": null,
   "metadata": {},
   "outputs": [],
   "source": [
    "row_sum = conf_mat.sum(axis=1, keepdims=True)\n",
    "norm_conf_mat = conf_mat / row_sum\n",
    "np.fill_diagonal(norm_conf_mat, 0) "
   ]
  },
  {
   "cell_type": "code",
   "execution_count": 30,
   "metadata": {},
   "outputs": [
    {
     "data": {
      "text/plain": [
       "<matplotlib.image.AxesImage at 0x14991d2d4c8>"
      ]
     },
     "execution_count": 30,
     "metadata": {},
     "output_type": "execute_result"
    },
    {
     "data": {
      "image/png": "[encoded data removed]",
      "text/plain": [
       "<Figure size 288x288 with 1 Axes>"
      ]
     },
     "metadata": {
      "needs_background": "light"
     },
     "output_type": "display_data"
    }
   ],
   "source": [
    "plt.matshow(norm_conf_mat, cmap=plt.cm.gray)"
   ]
  },
  {
   "cell_type": "markdown",
   "metadata": {},
   "source": [
    "# Predict and Submit"
   ]
  },
  {
   "cell_type": "code",
   "execution_count": 25,
   "metadata": {},
   "outputs": [],
   "source": [
    "from tensorflow.keras.models import load_model\n",
    "model = load_model('mnist_val_99_52.h5') # model with highest val_accuracy"
   ]
  },
  {
   "cell_type": "code",
   "execution_count": null,
   "metadata": {},
   "outputs": [],
   "source": [
    "test = test / 255.0 #Normalize\n",
    "test = test.values.reshape(-1,28,28,1) "
   ]
  },
  {
   "cell_type": "code",
   "execution_count": 35,
   "metadata": {},
   "outputs": [],
   "source": [
    "y_test_pred = model.predict(test)"
   ]
  },
  {
   "cell_type": "code",
   "execution_count": 36,
   "metadata": {},
   "outputs": [],
   "source": [
    "y_test_pred = np.argmax(y_test_pred,axis = 1)"
   ]
  },
  {
   "cell_type": "code",
   "execution_count": 39,
   "metadata": {},
   "outputs": [],
   "source": [
    "# Create dataframe and write to file\n",
    "\n",
    "submit = pd.DataFrame({'ImageId': range(1,28001),                              \n",
    "                       'Label': y_test_pred})\n",
    "\n",
    "submit.to_csv('mnist1.csv', index = False)"
   ]
  }
 ],
 "metadata": {
  "kernelspec": {
   "display_name": "Python 3",
   "language": "python",
   "name": "python3"
  },
  "language_info": {
   "codemirror_mode": {
    "name": "ipython",
    "version": 3
   },
   "file_extension": ".py",
   "mimetype": "text/x-python",
   "name": "python",
   "nbconvert_exporter": "python",
   "pygments_lexer": "ipython3",
   "version": "3.7.5"
  }
 },
 "nbformat": 4,
 "nbformat_minor": 2
}
